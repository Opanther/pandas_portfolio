{
 "cells": [
  {
   "cell_type": "markdown",
   "source": [
    "The covid-19 pandemic has caused all sorts of economic chaos over the last few years. Supply chains have been upended, millions of people have switched(or lost) their jobs, and inflation has been a topic of conversation for the first time in decades, And yes, central banks around the world have been raising rates and yes, inflation seem to be slowing down. But prices are still higher than they were a few year ago. One product whose prices have skyrocketed over the years is eggs. I don't know about you; I tend not to think much about the price of eggs when i do my family's shopping. (And yes, I've done the supermarket shopping for a very long time.) But for many people, the rise in egg prices has been pretty dramatic. And if you're a business that depends on egg prices? Then it has started to affect your bottom line.\n",
    "\n",
    "Listed Below are the questions I'm fgoing to answer using the data from the US Department of Agriculture(USDA).\n",
    "\n",
    "1. Given URLS for each of the last five years of egg prices, create a single data frame.\n",
    "2. What was the average low price for eggs in each of the years of data\n",
    "3. In what year was the percentage increase the greatest\n",
    "4. Now get the average low price for eggs in each month and year of data\n",
    "5. Have egg prices gone down in the last few months\n",
    "\n",
    "The learning goal for this week's exercise are to turn multiple source files into a singe data frame, to work with date-time information, to do some grouping, and to look at changes in data.\n",
    "\n"
   ],
   "metadata": {
    "collapsed": false
   }
  },
  {
   "cell_type": "code",
   "execution_count": 1,
   "outputs": [],
   "source": [
    "import pandas as pd"
   ],
   "metadata": {
    "collapsed": false
   }
  },
  {
   "cell_type": "code",
   "execution_count": 15,
   "outputs": [],
   "source": [
    "# Load data\n",
    "df = pd.concat([pd.read_html(f'https://marketnews.usda.gov/mnp/py-report?&repDate=01%2F01%2F{year}&regionsDesc=&endDate=12%2F31%2F{year}&repMonth=1&run=Run&_producttypefrom=1&endYear=2023&producttypefrom=&repYear=2020&categoryDesc=Egg&frequency=Daily&datatype=None+Selected&previouscls=Breaking+Stock&_producttype=1&report=NW_PY041&category=Egg&subcategory=Breaking+Stock&endMonth=1&commodityDesc=Breaking+Stock&runReport=true&format=excel')[0]\n",
    "                for year in range(2018, 2024)])"
   ],
   "metadata": {
    "collapsed": false
   }
  },
  {
   "cell_type": "code",
   "execution_count": 16,
   "outputs": [
    {
     "name": "stdout",
     "output_type": "stream",
     "text": [
      "<class 'pandas.core.frame.DataFrame'>\n",
      "Index: 2942 entries, 0 to 441\n",
      "Data columns (total 10 columns):\n",
      " #   Column         Non-Null Count  Dtype  \n",
      "---  ------         --------------  -----  \n",
      " 0   Date           2942 non-null   object \n",
      " 1   Region         2942 non-null   object \n",
      " 2   Egg Class      2942 non-null   object \n",
      " 3   Market Name    2942 non-null   object \n",
      " 4   Delivery Name  2942 non-null   object \n",
      " 5   Price Unit     2942 non-null   object \n",
      " 6   Low Price      2942 non-null   float64\n",
      " 7   High Price     2942 non-null   int64  \n",
      " 8   Mostly Low     1806 non-null   float64\n",
      " 9   Mostly High    1806 non-null   float64\n",
      "dtypes: float64(3), int64(1), object(6)\n",
      "memory usage: 252.8+ KB\n"
     ]
    }
   ],
   "source": [
    "df.head()\n",
    "df.info()"
   ],
   "metadata": {
    "collapsed": false
   }
  },
  {
   "cell_type": "code",
   "execution_count": 17,
   "outputs": [],
   "source": [
    "# Convert to a pandas datetime object\n",
    "df[\"Date\"] = pd.to_datetime(df[\"Date\"])\n",
    "\n"
   ],
   "metadata": {
    "collapsed": false
   }
  },
  {
   "cell_type": "code",
   "execution_count": 24,
   "outputs": [
    {
     "data": {
      "text/plain": "Date\n2018     59.083333\n2019     27.268000\n2020     32.950199\n2021     49.072000\n2022    188.148000\n2023    118.660633\nName: Low Price, dtype: float64"
     },
     "execution_count": 24,
     "metadata": {},
     "output_type": "execute_result"
    }
   ],
   "source": [
    "# 2. What was the average low price for eggs in each of the years of data?\n",
    "df.groupby(df['Date'].dt.year)['Low Price'].mean()"
   ],
   "metadata": {
    "collapsed": false
   }
  },
  {
   "cell_type": "code",
   "execution_count": 19,
   "outputs": [
    {
     "data": {
      "text/plain": "Date\n2018         NaN\n2019   -0.538482\n2020    0.208383\n2021    0.489278\n2022    2.834121\n2023   -0.369323\nName: Low Price, dtype: float64"
     },
     "execution_count": 19,
     "metadata": {},
     "output_type": "execute_result"
    }
   ],
   "source": [
    "# 3. In what year ws the increase the greatest\n",
    "df.groupby(df[\"Date\"].dt.year)['Low Price'].mean().pct_change()"
   ],
   "metadata": {
    "collapsed": false
   }
  },
  {
   "cell_type": "code",
   "execution_count": 20,
   "outputs": [
    {
     "data": {
      "text/plain": "Date  Date\n2018  1            NaN\n      2       0.254833\n      3       0.530414\n      4      -0.242941\n      5      -0.282576\n                ...   \n2023  7       0.176529\n      8       0.008026\n      9      -0.004140\n      10     -0.057974\n      11      0.321694\nName: Low Price, Length: 71, dtype: float64"
     },
     "execution_count": 20,
     "metadata": {},
     "output_type": "execute_result"
    }
   ],
   "source": [
    "# Find the mean price for low prices for every combination of year and month\n",
    "# 4. Now get the average low price for eggs in each month and year of data\n",
    "df.groupby([df[\"Date\"].dt.year, df['Date'].dt.month])['Low Price'].mean().pct_change()\n"
   ],
   "metadata": {
    "collapsed": false
   }
  },
  {
   "cell_type": "code",
   "execution_count": 23,
   "outputs": [
    {
     "data": {
      "text/plain": "Date  Date\n2023  2       187.263158\n      3       250.043478\n      4       128.525000\n      5        36.931818\n      6        66.190476\n      7        77.875000\n      8        78.500000\n      9        78.175000\n      10       73.642857\n      11       97.333333\nName: Low Price, dtype: float64"
     },
     "execution_count": 23,
     "metadata": {},
     "output_type": "execute_result"
    }
   ],
   "source": [
    "# 5. Have egg prices gone down in the last few months\n",
    "df.groupby([df['Date'].dt.year, df['Date'].dt.month])['Low Price'].mean().sort_index().tail(10)"
   ],
   "metadata": {
    "collapsed": false
   }
  },
  {
   "cell_type": "code",
   "execution_count": null,
   "outputs": [],
   "source": [],
   "metadata": {
    "collapsed": false
   }
  }
 ],
 "metadata": {
  "kernelspec": {
   "display_name": "Python 3",
   "language": "python",
   "name": "python3"
  },
  "language_info": {
   "codemirror_mode": {
    "name": "ipython",
    "version": 2
   },
   "file_extension": ".py",
   "mimetype": "text/x-python",
   "name": "python",
   "nbconvert_exporter": "python",
   "pygments_lexer": "ipython2",
   "version": "2.7.6"
  }
 },
 "nbformat": 4,
 "nbformat_minor": 0
}
