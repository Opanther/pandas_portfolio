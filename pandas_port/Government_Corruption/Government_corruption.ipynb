{
 "cells": [
  {
   "cell_type": "markdown",
   "source": [
    "# Government corruption\n",
    "\n",
    "Transparency international is a non-profit that tries to track how corrupt (or not) various government are. They just came out with their ranking for 2022, and I'm happy to say the made their data available.\n",
    "\n",
    "\n",
    "## Data\n",
    "[click this link](https://images.transparencycdn.org/images/CPI2022_GlobalResultsTrends.xlsx \"Government Corruption\")\n",
    "\n",
    "I will be using the data linked above to answer the following questions\n",
    "\n",
    "1. According to Transparency International, what five countries are least corrupt in 2022?\n",
    "2. What five countries were most corrupt in 2022?\n",
    "3. Which region of the world was least corrupt]\n",
    "4. Which five countries have made the greatest improvement in 10 years, between the 2012 report and the 2022 report?\n",
    "\n",
    "Learning Goal: Work with excel files, including multi-sheet excel.\n"
   ],
   "metadata": {
    "collapsed": false
   }
  },
  {
   "cell_type": "code",
   "execution_count": 5,
   "outputs": [],
   "source": [
    "# Import library\n",
    "\n",
    "import pandas as pd\n"
   ],
   "metadata": {
    "collapsed": false
   }
  },
  {
   "cell_type": "code",
   "execution_count": 16,
   "outputs": [],
   "source": [
    "filename = '/Users/tomioredein/data_analyst/pandas_port/pandas_portfolio/pandas_port/CPI2022_GlobalResultsTrends.xlsx'\n",
    "df = pd.read_excel(filename, header=2)"
   ],
   "metadata": {
    "collapsed": false
   }
  },
  {
   "cell_type": "code",
   "execution_count": 17,
   "outputs": [
    {
     "data": {
      "text/plain": "    Country / Territory ISO3 Region  CPI score 2022  Rank  Standard error  \\\n0           Afghanistan  AFG     AP              24   150        6.299999   \n1               Albania  ALB    ECA              36   101        1.316355   \n2               Algeria  DZA   MENA              33   116        1.673809   \n3                Angola  AGO    SSA              33   116        2.807703   \n4             Argentina  ARG    AME              38    94        2.334808   \n..                  ...  ...    ...             ...   ...             ...   \n175           Venezuela  VEN    AME              14   177        1.296945   \n176             Vietnam  VNM     AP              42    77        1.497007   \n177               Yemen  YEM   MENA              16   176        1.975074   \n178              Zambia  ZMB    SSA              33   116        1.495884   \n179            Zimbabwe  ZWE    SSA              23   157        1.532080   \n\n     Number of sources  Lower CI  Upper CI  African Development Bank CPIA  \\\n0                    4  13.66800  34.33200                            NaN   \n1                    8  33.84118  38.15882                            NaN   \n2                    6  30.25495  35.74504                            NaN   \n3                    7  28.39537  37.60463                            NaN   \n4                    7  34.17091  41.82909                            NaN   \n..                 ...       ...       ...                            ...   \n175                  8  11.87301  16.12699                            NaN   \n176                  8  39.54491  44.45509                            NaN   \n177                  7  12.76088  19.23912                            NaN   \n178                  9  30.54675  35.45325                           34.0   \n179                  8  20.48739  25.51261                           19.0   \n\n     ...  Economist Intelligence Unit Country Ratings  \\\n0    ...                                          NaN   \n1    ...                                         37.0   \n2    ...                                         37.0   \n3    ...                                         20.0   \n4    ...                                         37.0   \n..   ...                                          ...   \n175  ...                                         20.0   \n176  ...                                         37.0   \n177  ...                                         20.0   \n178  ...                                         37.0   \n179  ...                                         37.0   \n\n     Freedom House Nations in Transit  Global Insights Country Risk Ratings  \\\n0                                 NaN                                    10   \n1                                42.0                                    35   \n2                                 NaN                                    35   \n3                                 NaN                                    47   \n4                                 NaN                                    35   \n..                                ...                                   ...   \n175                               NaN                                    10   \n176                               NaN                                    47   \n177                               NaN                                    10   \n178                               NaN                                    35   \n179                               NaN                                    22   \n\n     IMD World Competitiveness Yearbook  PERC Asia Risk Guide  \\\n0                                   NaN                   NaN   \n1                                   NaN                   NaN   \n2                                   NaN                   NaN   \n3                                   NaN                   NaN   \n4                                  24.0                   NaN   \n..                                  ...                   ...   \n175                                24.0                   NaN   \n176                                 NaN                  39.0   \n177                                 NaN                   NaN   \n178                                 NaN                   NaN   \n179                                 NaN                   NaN   \n\n     PRS International Country Risk Guide  Varieties of Democracy Project  \\\n0                                     NaN                            43.0   \n1                                    32.0                            27.0   \n2                                    24.0                            29.0   \n3                                    32.0                            46.0   \n4                                    32.0                            47.0   \n..                                    ...                             ...   \n175                                  15.0                             9.0   \n176                                  41.0                            44.0   \n177                                  15.0                            11.0   \n178                                  32.0                            49.0   \n179                                  15.0                            20.0   \n\n     World Bank CPIA  World Economic Forum EOS  \\\n0                NaN                       NaN   \n1                NaN                      42.0   \n2                NaN                       NaN   \n3                NaN                      22.0   \n4                NaN                       NaN   \n..               ...                       ...   \n175              NaN                      13.0   \n176              NaN                      55.0   \n177             10.0                      30.0   \n178             27.0                      30.0   \n179             27.0                       NaN   \n\n     World Justice Project Rule of Law Index  \n0                                       16.0  \n1                                       29.0  \n2                                       36.0  \n3                                       28.0  \n4                                       44.0  \n..                                       ...  \n175                                      9.0  \n176                                     36.0  \n177                                      NaN  \n178                                     36.0  \n179                                     23.0  \n\n[180 rows x 22 columns]",
      "text/html": "<div>\n<style scoped>\n    .dataframe tbody tr th:only-of-type {\n        vertical-align: middle;\n    }\n\n    .dataframe tbody tr th {\n        vertical-align: top;\n    }\n\n    .dataframe thead th {\n        text-align: right;\n    }\n</style>\n<table border=\"1\" class=\"dataframe\">\n  <thead>\n    <tr style=\"text-align: right;\">\n      <th></th>\n      <th>Country / Territory</th>\n      <th>ISO3</th>\n      <th>Region</th>\n      <th>CPI score 2022</th>\n      <th>Rank</th>\n      <th>Standard error</th>\n      <th>Number of sources</th>\n      <th>Lower CI</th>\n      <th>Upper CI</th>\n      <th>African Development Bank CPIA</th>\n      <th>...</th>\n      <th>Economist Intelligence Unit Country Ratings</th>\n      <th>Freedom House Nations in Transit</th>\n      <th>Global Insights Country Risk Ratings</th>\n      <th>IMD World Competitiveness Yearbook</th>\n      <th>PERC Asia Risk Guide</th>\n      <th>PRS International Country Risk Guide</th>\n      <th>Varieties of Democracy Project</th>\n      <th>World Bank CPIA</th>\n      <th>World Economic Forum EOS</th>\n      <th>World Justice Project Rule of Law Index</th>\n    </tr>\n  </thead>\n  <tbody>\n    <tr>\n      <th>0</th>\n      <td>Afghanistan</td>\n      <td>AFG</td>\n      <td>AP</td>\n      <td>24</td>\n      <td>150</td>\n      <td>6.299999</td>\n      <td>4</td>\n      <td>13.66800</td>\n      <td>34.33200</td>\n      <td>NaN</td>\n      <td>...</td>\n      <td>NaN</td>\n      <td>NaN</td>\n      <td>10</td>\n      <td>NaN</td>\n      <td>NaN</td>\n      <td>NaN</td>\n      <td>43.0</td>\n      <td>NaN</td>\n      <td>NaN</td>\n      <td>16.0</td>\n    </tr>\n    <tr>\n      <th>1</th>\n      <td>Albania</td>\n      <td>ALB</td>\n      <td>ECA</td>\n      <td>36</td>\n      <td>101</td>\n      <td>1.316355</td>\n      <td>8</td>\n      <td>33.84118</td>\n      <td>38.15882</td>\n      <td>NaN</td>\n      <td>...</td>\n      <td>37.0</td>\n      <td>42.0</td>\n      <td>35</td>\n      <td>NaN</td>\n      <td>NaN</td>\n      <td>32.0</td>\n      <td>27.0</td>\n      <td>NaN</td>\n      <td>42.0</td>\n      <td>29.0</td>\n    </tr>\n    <tr>\n      <th>2</th>\n      <td>Algeria</td>\n      <td>DZA</td>\n      <td>MENA</td>\n      <td>33</td>\n      <td>116</td>\n      <td>1.673809</td>\n      <td>6</td>\n      <td>30.25495</td>\n      <td>35.74504</td>\n      <td>NaN</td>\n      <td>...</td>\n      <td>37.0</td>\n      <td>NaN</td>\n      <td>35</td>\n      <td>NaN</td>\n      <td>NaN</td>\n      <td>24.0</td>\n      <td>29.0</td>\n      <td>NaN</td>\n      <td>NaN</td>\n      <td>36.0</td>\n    </tr>\n    <tr>\n      <th>3</th>\n      <td>Angola</td>\n      <td>AGO</td>\n      <td>SSA</td>\n      <td>33</td>\n      <td>116</td>\n      <td>2.807703</td>\n      <td>7</td>\n      <td>28.39537</td>\n      <td>37.60463</td>\n      <td>NaN</td>\n      <td>...</td>\n      <td>20.0</td>\n      <td>NaN</td>\n      <td>47</td>\n      <td>NaN</td>\n      <td>NaN</td>\n      <td>32.0</td>\n      <td>46.0</td>\n      <td>NaN</td>\n      <td>22.0</td>\n      <td>28.0</td>\n    </tr>\n    <tr>\n      <th>4</th>\n      <td>Argentina</td>\n      <td>ARG</td>\n      <td>AME</td>\n      <td>38</td>\n      <td>94</td>\n      <td>2.334808</td>\n      <td>7</td>\n      <td>34.17091</td>\n      <td>41.82909</td>\n      <td>NaN</td>\n      <td>...</td>\n      <td>37.0</td>\n      <td>NaN</td>\n      <td>35</td>\n      <td>24.0</td>\n      <td>NaN</td>\n      <td>32.0</td>\n      <td>47.0</td>\n      <td>NaN</td>\n      <td>NaN</td>\n      <td>44.0</td>\n    </tr>\n    <tr>\n      <th>...</th>\n      <td>...</td>\n      <td>...</td>\n      <td>...</td>\n      <td>...</td>\n      <td>...</td>\n      <td>...</td>\n      <td>...</td>\n      <td>...</td>\n      <td>...</td>\n      <td>...</td>\n      <td>...</td>\n      <td>...</td>\n      <td>...</td>\n      <td>...</td>\n      <td>...</td>\n      <td>...</td>\n      <td>...</td>\n      <td>...</td>\n      <td>...</td>\n      <td>...</td>\n      <td>...</td>\n    </tr>\n    <tr>\n      <th>175</th>\n      <td>Venezuela</td>\n      <td>VEN</td>\n      <td>AME</td>\n      <td>14</td>\n      <td>177</td>\n      <td>1.296945</td>\n      <td>8</td>\n      <td>11.87301</td>\n      <td>16.12699</td>\n      <td>NaN</td>\n      <td>...</td>\n      <td>20.0</td>\n      <td>NaN</td>\n      <td>10</td>\n      <td>24.0</td>\n      <td>NaN</td>\n      <td>15.0</td>\n      <td>9.0</td>\n      <td>NaN</td>\n      <td>13.0</td>\n      <td>9.0</td>\n    </tr>\n    <tr>\n      <th>176</th>\n      <td>Vietnam</td>\n      <td>VNM</td>\n      <td>AP</td>\n      <td>42</td>\n      <td>77</td>\n      <td>1.497007</td>\n      <td>8</td>\n      <td>39.54491</td>\n      <td>44.45509</td>\n      <td>NaN</td>\n      <td>...</td>\n      <td>37.0</td>\n      <td>NaN</td>\n      <td>47</td>\n      <td>NaN</td>\n      <td>39.0</td>\n      <td>41.0</td>\n      <td>44.0</td>\n      <td>NaN</td>\n      <td>55.0</td>\n      <td>36.0</td>\n    </tr>\n    <tr>\n      <th>177</th>\n      <td>Yemen</td>\n      <td>YEM</td>\n      <td>MENA</td>\n      <td>16</td>\n      <td>176</td>\n      <td>1.975074</td>\n      <td>7</td>\n      <td>12.76088</td>\n      <td>19.23912</td>\n      <td>NaN</td>\n      <td>...</td>\n      <td>20.0</td>\n      <td>NaN</td>\n      <td>10</td>\n      <td>NaN</td>\n      <td>NaN</td>\n      <td>15.0</td>\n      <td>11.0</td>\n      <td>10.0</td>\n      <td>30.0</td>\n      <td>NaN</td>\n    </tr>\n    <tr>\n      <th>178</th>\n      <td>Zambia</td>\n      <td>ZMB</td>\n      <td>SSA</td>\n      <td>33</td>\n      <td>116</td>\n      <td>1.495884</td>\n      <td>9</td>\n      <td>30.54675</td>\n      <td>35.45325</td>\n      <td>34.0</td>\n      <td>...</td>\n      <td>37.0</td>\n      <td>NaN</td>\n      <td>35</td>\n      <td>NaN</td>\n      <td>NaN</td>\n      <td>32.0</td>\n      <td>49.0</td>\n      <td>27.0</td>\n      <td>30.0</td>\n      <td>36.0</td>\n    </tr>\n    <tr>\n      <th>179</th>\n      <td>Zimbabwe</td>\n      <td>ZWE</td>\n      <td>SSA</td>\n      <td>23</td>\n      <td>157</td>\n      <td>1.532080</td>\n      <td>8</td>\n      <td>20.48739</td>\n      <td>25.51261</td>\n      <td>19.0</td>\n      <td>...</td>\n      <td>37.0</td>\n      <td>NaN</td>\n      <td>22</td>\n      <td>NaN</td>\n      <td>NaN</td>\n      <td>15.0</td>\n      <td>20.0</td>\n      <td>27.0</td>\n      <td>NaN</td>\n      <td>23.0</td>\n    </tr>\n  </tbody>\n</table>\n<p>180 rows × 22 columns</p>\n</div>"
     },
     "execution_count": 17,
     "metadata": {},
     "output_type": "execute_result"
    }
   ],
   "source": [
    "df"
   ],
   "metadata": {
    "collapsed": false
   }
  },
  {
   "cell_type": "code",
   "execution_count": 22,
   "outputs": [
    {
     "data": {
      "text/plain": "Country / Territory\nDenmark        90\nFinland        87\nNew Zealand    87\nNorway         84\nSweden         83\nName: CPI score 2022, dtype: int64"
     },
     "execution_count": 22,
     "metadata": {},
     "output_type": "execute_result"
    }
   ],
   "source": [
    "# Solution to question 1\n",
    "df.set_index(\"Country / Territory\")['CPI score 2022'].sort_values(ascending=False).head()"
   ],
   "metadata": {
    "collapsed": false
   }
  },
  {
   "cell_type": "code",
   "execution_count": 23,
   "outputs": [
    {
     "data": {
      "text/plain": "Country / Territory\nSomalia        12\nSyria          13\nSouth Sudan    13\nVenezuela      14\nYemen          16\nName: CPI score 2022, dtype: int64"
     },
     "execution_count": 23,
     "metadata": {},
     "output_type": "execute_result"
    }
   ],
   "source": [
    "# Solution to question 2\n",
    "df.set_index(\"Country / Territory\")['CPI score 2022'].sort_values().head()\n"
   ],
   "metadata": {
    "collapsed": false
   }
  },
  {
   "cell_type": "code",
   "execution_count": 27,
   "outputs": [
    {
     "data": {
      "text/plain": "'WE/EU'"
     },
     "execution_count": 27,
     "metadata": {},
     "output_type": "execute_result"
    }
   ],
   "source": [
    "# Solution to question 3\n",
    "df.groupby(\"Region\")['CPI score 2022'].mean().idxmax()"
   ],
   "metadata": {
    "collapsed": false
   }
  },
  {
   "cell_type": "code",
   "execution_count": 40,
   "outputs": [],
   "source": [
    "# Solution to Question 4\n",
    "\n",
    "df = pd.read_excel( filename, sheet_name=2, header=2, usecols=[0,1,2,3,4])"
   ],
   "metadata": {
    "collapsed": false
   }
  },
  {
   "cell_type": "code",
   "execution_count": 41,
   "outputs": [
    {
     "data": {
      "text/plain": "                  Country ISO3 Region  CPI 2022  CPI 2012\n0                  Angola  AGO    SSA        33        22\n1                 Armenia  ARM    ECA        46        34\n2               Australia  AUS     AP        75        85\n3  Bosnia and Herzegovina  BIH    ECA        34        42\n4                  Canada  CAN    AME        74        84",
      "text/html": "<div>\n<style scoped>\n    .dataframe tbody tr th:only-of-type {\n        vertical-align: middle;\n    }\n\n    .dataframe tbody tr th {\n        vertical-align: top;\n    }\n\n    .dataframe thead th {\n        text-align: right;\n    }\n</style>\n<table border=\"1\" class=\"dataframe\">\n  <thead>\n    <tr style=\"text-align: right;\">\n      <th></th>\n      <th>Country</th>\n      <th>ISO3</th>\n      <th>Region</th>\n      <th>CPI 2022</th>\n      <th>CPI 2012</th>\n    </tr>\n  </thead>\n  <tbody>\n    <tr>\n      <th>0</th>\n      <td>Angola</td>\n      <td>AGO</td>\n      <td>SSA</td>\n      <td>33</td>\n      <td>22</td>\n    </tr>\n    <tr>\n      <th>1</th>\n      <td>Armenia</td>\n      <td>ARM</td>\n      <td>ECA</td>\n      <td>46</td>\n      <td>34</td>\n    </tr>\n    <tr>\n      <th>2</th>\n      <td>Australia</td>\n      <td>AUS</td>\n      <td>AP</td>\n      <td>75</td>\n      <td>85</td>\n    </tr>\n    <tr>\n      <th>3</th>\n      <td>Bosnia and Herzegovina</td>\n      <td>BIH</td>\n      <td>ECA</td>\n      <td>34</td>\n      <td>42</td>\n    </tr>\n    <tr>\n      <th>4</th>\n      <td>Canada</td>\n      <td>CAN</td>\n      <td>AME</td>\n      <td>74</td>\n      <td>84</td>\n    </tr>\n  </tbody>\n</table>\n</div>"
     },
     "execution_count": 41,
     "metadata": {},
     "output_type": "execute_result"
    }
   ],
   "source": [
    "df.head()"
   ],
   "metadata": {
    "collapsed": false
   }
  },
  {
   "cell_type": "code",
   "execution_count": 43,
   "outputs": [
    {
     "data": {
      "text/plain": "26    18\n10    16\n16    14\n31    14\n12    12\nName: change, dtype: int64"
     },
     "execution_count": 43,
     "metadata": {},
     "output_type": "execute_result"
    }
   ],
   "source": [
    "df['change'] = df['CPI 2022'] - df['CPI 2012']\n",
    "\n",
    "df['change'].sort_values(ascending=False).head()"
   ],
   "metadata": {
    "collapsed": false
   }
  },
  {
   "cell_type": "code",
   "execution_count": 46,
   "outputs": [
    {
     "data": {
      "text/plain": "Country\nSeychelles    18\nGreece        16\nItaly         14\nUzbekistan    14\nGuyana        12\nName: change, dtype: int64"
     },
     "execution_count": 46,
     "metadata": {},
     "output_type": "execute_result"
    }
   ],
   "source": [
    "df.set_index(\"Country\")['change'].sort_values(ascending=False).head()"
   ],
   "metadata": {
    "collapsed": false
   }
  },
  {
   "cell_type": "code",
   "execution_count": null,
   "outputs": [],
   "source": [],
   "metadata": {
    "collapsed": false
   }
  }
 ],
 "metadata": {
  "kernelspec": {
   "display_name": "Python 3",
   "language": "python",
   "name": "python3"
  },
  "language_info": {
   "codemirror_mode": {
    "name": "ipython",
    "version": 2
   },
   "file_extension": ".py",
   "mimetype": "text/x-python",
   "name": "python",
   "nbconvert_exporter": "python",
   "pygments_lexer": "ipython2",
   "version": "2.7.6"
  }
 },
 "nbformat": 4,
 "nbformat_minor": 0
}
