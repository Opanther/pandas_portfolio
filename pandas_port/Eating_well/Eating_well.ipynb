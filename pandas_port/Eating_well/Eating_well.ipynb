{
 "cells": [
  {
   "cell_type": "markdown",
   "source": [
    "Growing up, my family generally ate healthy food, including fruits and vegetables. Indeed, my mother always made sure that my school lunch had not just a sandwich, but also a yellow vegetable and a green vegetable. I certainly knew that the other children didn’t eat many vegetables, but it took a good number of years until I realized just how few many of my friends ate.\n",
    "\n",
    "I was reminded of that when reading a story in Axios several days ago, in which they quoted a study from the Centers for Disease Control and Prevention (CDC), claiming that half of young American children were eating less than one vegetable per day. I mean, we know that Americans don’t eat a lot of fresh vegetables, and we know that kids can be picky eaters, but … wow, could that possibly be true? And it true throughout the US?\n",
    "\n",
    "This week, we’ll try to find out, by looking at the data from that CDC study, known as the National Survey of Children's Health (NSCH). The study looked at children 5 and younger, and asked all sorts of questions — not just about their eating habits, but also about such topics and allergies and speaking abilities. It also collected demographic information, including about race, which is important, but which we won’t look at here.\n",
    "\n",
    "This week, I want you to download the data: https://www.census.gov/programs-surveys/nsch/data/datasets.html. In particular, here’s what I want you to do:\n",
    "\n",
    "1. Download the topical data file, in SAS format, from:\n",
    "\n",
    "https://www2.census.gov/programs-surveys/nsch/datasets/2021/nsch_2021_topical_SAS.zip. Turn it into a data frame. We're only interested in the following columns:\n",
    "\n",
    "FIPSST\n",
    "\n",
    "VEGETABLE\n",
    "\n",
    "FRUIT\n",
    "\n",
    "SUGARDRINK\n",
    "\n",
    "2. Turn the FIPSST column into an integer, and make it the index.\n",
    "\n",
    "3. What percentage of children had, on average, less than one vegetable per day during the week preceding the study?\n",
    "\n",
    "4. What percentage of children had, on average, less than one vegetable per day and less than one fruit per day during the week preceding the study?\n",
    "\n",
    "5. What percentage of children had, on average, less than one vegetable per day and less than one fruit per day and did have a sugary drink during the week preceding the study?\n",
    "\n",
    "6. Download the FIPS state reference info, in CSV format, from https://www2.census.gov/geo/docs/reference/state.txt. Turn this into a data frame, with the STATE column as the index. The only other column we care about is STATE_NAME.\n",
    "\n",
    "7. What percentage of children, per state, had, on average, less than one vegetaable per day during the week preceding the study?\n",
    "\n",
    "The learning goals for this week are to work with SAS-formatted data, using boolean operators, and joining data from two data frames together."
   ],
   "metadata": {
    "collapsed": false
   }
  },
  {
   "cell_type": "code",
   "execution_count": 1,
   "outputs": [],
   "source": [
    "# Import packages\n",
    "import pandas as pd\n",
    "import numpy as np"
   ],
   "metadata": {
    "collapsed": false
   }
  },
  {
   "cell_type": "code",
   "execution_count": 2,
   "outputs": [],
   "source": [
    "# Read the SAS data\n",
    "filepath = '/Users/tomioredein/data_analyst/pandas_port/pandas_portfolio/pandas_port/Eating_well/nsch_2021e_topical.sas7bdat'\n",
    "df = pd.read_sas(filepath)\n",
    "df = df[[\"FIPSST\",\"VEGETABLES\",\"FRUIT\",\"SUGARDRINK\"]]\n",
    "#"
   ],
   "metadata": {
    "collapsed": false
   }
  },
  {
   "cell_type": "code",
   "execution_count": 9,
   "outputs": [
    {
     "ename": "KeyError",
     "evalue": "'FIPSST'",
     "output_type": "error",
     "traceback": [
      "\u001B[0;31m---------------------------------------------------------------------------\u001B[0m",
      "\u001B[0;31mKeyError\u001B[0m                                  Traceback (most recent call last)",
      "File \u001B[0;32m~/pandas_port/lib/python3.9/site-packages/pandas/core/indexes/base.py:3790\u001B[0m, in \u001B[0;36mIndex.get_loc\u001B[0;34m(self, key)\u001B[0m\n\u001B[1;32m   3789\u001B[0m \u001B[38;5;28;01mtry\u001B[39;00m:\n\u001B[0;32m-> 3790\u001B[0m     \u001B[38;5;28;01mreturn\u001B[39;00m \u001B[38;5;28;43mself\u001B[39;49m\u001B[38;5;241;43m.\u001B[39;49m\u001B[43m_engine\u001B[49m\u001B[38;5;241;43m.\u001B[39;49m\u001B[43mget_loc\u001B[49m\u001B[43m(\u001B[49m\u001B[43mcasted_key\u001B[49m\u001B[43m)\u001B[49m\n\u001B[1;32m   3791\u001B[0m \u001B[38;5;28;01mexcept\u001B[39;00m \u001B[38;5;167;01mKeyError\u001B[39;00m \u001B[38;5;28;01mas\u001B[39;00m err:\n",
      "File \u001B[0;32mindex.pyx:152\u001B[0m, in \u001B[0;36mpandas._libs.index.IndexEngine.get_loc\u001B[0;34m()\u001B[0m\n",
      "File \u001B[0;32mindex.pyx:181\u001B[0m, in \u001B[0;36mpandas._libs.index.IndexEngine.get_loc\u001B[0;34m()\u001B[0m\n",
      "File \u001B[0;32mpandas/_libs/hashtable_class_helper.pxi:7080\u001B[0m, in \u001B[0;36mpandas._libs.hashtable.PyObjectHashTable.get_item\u001B[0;34m()\u001B[0m\n",
      "File \u001B[0;32mpandas/_libs/hashtable_class_helper.pxi:7088\u001B[0m, in \u001B[0;36mpandas._libs.hashtable.PyObjectHashTable.get_item\u001B[0;34m()\u001B[0m\n",
      "\u001B[0;31mKeyError\u001B[0m: 'FIPSST'",
      "\nThe above exception was the direct cause of the following exception:\n",
      "\u001B[0;31mKeyError\u001B[0m                                  Traceback (most recent call last)",
      "Cell \u001B[0;32mIn[9], line 2\u001B[0m\n\u001B[1;32m      1\u001B[0m \u001B[38;5;66;03m# Turn the FIPSST column into an integer, and make it the index.\u001B[39;00m\n\u001B[0;32m----> 2\u001B[0m df[\u001B[38;5;124m\"\u001B[39m\u001B[38;5;124mFIPSST\u001B[39m\u001B[38;5;124m\"\u001B[39m] \u001B[38;5;241m=\u001B[39m \u001B[43mdf\u001B[49m\u001B[43m[\u001B[49m\u001B[38;5;124;43m\"\u001B[39;49m\u001B[38;5;124;43mFIPSST\u001B[39;49m\u001B[38;5;124;43m\"\u001B[39;49m\u001B[43m]\u001B[49m\u001B[38;5;241m.\u001B[39mastype(np\u001B[38;5;241m.\u001B[39mint8)\n\u001B[1;32m      3\u001B[0m \u001B[38;5;66;03m# set the index\u001B[39;00m\n\u001B[1;32m      4\u001B[0m df \u001B[38;5;241m=\u001B[39m df\u001B[38;5;241m.\u001B[39mset_index(\u001B[38;5;124m\"\u001B[39m\u001B[38;5;124mFIPSST\u001B[39m\u001B[38;5;124m\"\u001B[39m)\n",
      "File \u001B[0;32m~/pandas_port/lib/python3.9/site-packages/pandas/core/frame.py:3893\u001B[0m, in \u001B[0;36mDataFrame.__getitem__\u001B[0;34m(self, key)\u001B[0m\n\u001B[1;32m   3891\u001B[0m \u001B[38;5;28;01mif\u001B[39;00m \u001B[38;5;28mself\u001B[39m\u001B[38;5;241m.\u001B[39mcolumns\u001B[38;5;241m.\u001B[39mnlevels \u001B[38;5;241m>\u001B[39m \u001B[38;5;241m1\u001B[39m:\n\u001B[1;32m   3892\u001B[0m     \u001B[38;5;28;01mreturn\u001B[39;00m \u001B[38;5;28mself\u001B[39m\u001B[38;5;241m.\u001B[39m_getitem_multilevel(key)\n\u001B[0;32m-> 3893\u001B[0m indexer \u001B[38;5;241m=\u001B[39m \u001B[38;5;28;43mself\u001B[39;49m\u001B[38;5;241;43m.\u001B[39;49m\u001B[43mcolumns\u001B[49m\u001B[38;5;241;43m.\u001B[39;49m\u001B[43mget_loc\u001B[49m\u001B[43m(\u001B[49m\u001B[43mkey\u001B[49m\u001B[43m)\u001B[49m\n\u001B[1;32m   3894\u001B[0m \u001B[38;5;28;01mif\u001B[39;00m is_integer(indexer):\n\u001B[1;32m   3895\u001B[0m     indexer \u001B[38;5;241m=\u001B[39m [indexer]\n",
      "File \u001B[0;32m~/pandas_port/lib/python3.9/site-packages/pandas/core/indexes/base.py:3797\u001B[0m, in \u001B[0;36mIndex.get_loc\u001B[0;34m(self, key)\u001B[0m\n\u001B[1;32m   3792\u001B[0m     \u001B[38;5;28;01mif\u001B[39;00m \u001B[38;5;28misinstance\u001B[39m(casted_key, \u001B[38;5;28mslice\u001B[39m) \u001B[38;5;129;01mor\u001B[39;00m (\n\u001B[1;32m   3793\u001B[0m         \u001B[38;5;28misinstance\u001B[39m(casted_key, abc\u001B[38;5;241m.\u001B[39mIterable)\n\u001B[1;32m   3794\u001B[0m         \u001B[38;5;129;01mand\u001B[39;00m \u001B[38;5;28many\u001B[39m(\u001B[38;5;28misinstance\u001B[39m(x, \u001B[38;5;28mslice\u001B[39m) \u001B[38;5;28;01mfor\u001B[39;00m x \u001B[38;5;129;01min\u001B[39;00m casted_key)\n\u001B[1;32m   3795\u001B[0m     ):\n\u001B[1;32m   3796\u001B[0m         \u001B[38;5;28;01mraise\u001B[39;00m InvalidIndexError(key)\n\u001B[0;32m-> 3797\u001B[0m     \u001B[38;5;28;01mraise\u001B[39;00m \u001B[38;5;167;01mKeyError\u001B[39;00m(key) \u001B[38;5;28;01mfrom\u001B[39;00m \u001B[38;5;21;01merr\u001B[39;00m\n\u001B[1;32m   3798\u001B[0m \u001B[38;5;28;01mexcept\u001B[39;00m \u001B[38;5;167;01mTypeError\u001B[39;00m:\n\u001B[1;32m   3799\u001B[0m     \u001B[38;5;66;03m# If we have a listlike key, _check_indexing_error will raise\u001B[39;00m\n\u001B[1;32m   3800\u001B[0m     \u001B[38;5;66;03m#  InvalidIndexError. Otherwise we fall through and re-raise\u001B[39;00m\n\u001B[1;32m   3801\u001B[0m     \u001B[38;5;66;03m#  the TypeError.\u001B[39;00m\n\u001B[1;32m   3802\u001B[0m     \u001B[38;5;28mself\u001B[39m\u001B[38;5;241m.\u001B[39m_check_indexing_error(key)\n",
      "\u001B[0;31mKeyError\u001B[0m: 'FIPSST'"
     ]
    }
   ],
   "source": [
    "# Turn the FIPSST column into an integer, and make it the index.\n",
    "df[\"FIPSST\"] = df[\"FIPSST\"].astype(np.int8)\n",
    "# set the index\n",
    "df = df.set_index(\"FIPSST\")\n",
    "df.head()\n"
   ],
   "metadata": {
    "collapsed": false
   }
  },
  {
   "cell_type": "code",
   "execution_count": 10,
   "outputs": [
    {
     "name": "stdout",
     "output_type": "stream",
     "text": [
      "<class 'pandas.core.frame.DataFrame'>\n",
      "Index: 50892 entries, 48 to 28\n",
      "Data columns (total 3 columns):\n",
      " #   Column      Non-Null Count  Dtype  \n",
      "---  ------      --------------  -----  \n",
      " 0   VEGETABLES  18439 non-null  float64\n",
      " 1   FRUIT       18523 non-null  float64\n",
      " 2   SUGARDRINK  18551 non-null  float64\n",
      "dtypes: float64(3)\n",
      "memory usage: 1.2 MB\n"
     ]
    },
    {
     "data": {
      "text/plain": "        VEGETABLES  FRUIT  SUGARDRINK\nFIPSST                               \n48             3.0    2.0         1.0\n2              NaN    NaN         NaN\n40             NaN    NaN         NaN\n26             2.0    2.0         2.0\n22             2.0    3.0         2.0",
      "text/html": "<div>\n<style scoped>\n    .dataframe tbody tr th:only-of-type {\n        vertical-align: middle;\n    }\n\n    .dataframe tbody tr th {\n        vertical-align: top;\n    }\n\n    .dataframe thead th {\n        text-align: right;\n    }\n</style>\n<table border=\"1\" class=\"dataframe\">\n  <thead>\n    <tr style=\"text-align: right;\">\n      <th></th>\n      <th>VEGETABLES</th>\n      <th>FRUIT</th>\n      <th>SUGARDRINK</th>\n    </tr>\n    <tr>\n      <th>FIPSST</th>\n      <th></th>\n      <th></th>\n      <th></th>\n    </tr>\n  </thead>\n  <tbody>\n    <tr>\n      <th>48</th>\n      <td>3.0</td>\n      <td>2.0</td>\n      <td>1.0</td>\n    </tr>\n    <tr>\n      <th>2</th>\n      <td>NaN</td>\n      <td>NaN</td>\n      <td>NaN</td>\n    </tr>\n    <tr>\n      <th>40</th>\n      <td>NaN</td>\n      <td>NaN</td>\n      <td>NaN</td>\n    </tr>\n    <tr>\n      <th>26</th>\n      <td>2.0</td>\n      <td>2.0</td>\n      <td>2.0</td>\n    </tr>\n    <tr>\n      <th>22</th>\n      <td>2.0</td>\n      <td>3.0</td>\n      <td>2.0</td>\n    </tr>\n  </tbody>\n</table>\n</div>"
     },
     "execution_count": 10,
     "metadata": {},
     "output_type": "execute_result"
    }
   ],
   "source": [
    "df.info()\n",
    "df.head()"
   ],
   "metadata": {
    "collapsed": false
   }
  },
  {
   "cell_type": "code",
   "execution_count": 19,
   "outputs": [
    {
     "data": {
      "text/plain": "47.01448017788383"
     },
     "execution_count": 19,
     "metadata": {},
     "output_type": "execute_result"
    }
   ],
   "source": [
    "# What percentage of children had, on average, less than one vegetable per day during the week preceding the study?\n",
    "\n",
    "#  the first argument is our row selector, and our second argument is our column selector. We’re thus asking for the VEGETABLES column in df, but only where the value of VEGETABLES is less than 4.\n",
    "perc_veg_child= (df.loc[df['VEGETABLES'] < 4, 'VEGETABLES'].count() / df[\"VEGETABLES\"].count()) * 100\n",
    "perc_veg_child\n",
    "\n"
   ],
   "metadata": {
    "collapsed": false
   }
  },
  {
   "cell_type": "code",
   "execution_count": 23,
   "outputs": [
    {
     "data": {
      "text/plain": "0.2626498183198655"
     },
     "execution_count": 23,
     "metadata": {},
     "output_type": "execute_result"
    }
   ],
   "source": [
    "# what percentage of children had, on average, less than one vegetable per day and less than one fruit per day during the week preceding the study?\n",
    "\n",
    "\n",
    "perc_veg_and_fruit_child = df.loc[(df['VEGETABLES'] < 4) & (df['FRUIT'] < 4),\n",
    "       'VEGETABLES'].count() / df['VEGETABLES'].count()\n",
    "perc_veg_and_fruit_child\n"
   ],
   "metadata": {
    "collapsed": false
   }
  },
  {
   "cell_type": "code",
   "execution_count": 26,
   "outputs": [
    {
     "data": {
      "text/plain": "0.1590107923423179"
     },
     "execution_count": 26,
     "metadata": {},
     "output_type": "execute_result"
    }
   ],
   "source": [
    "# What percentage of children had, on average, less than one vegetable per day and less than one fruit per day and did have a sugary drink during the week preceding the study?\n",
    "df.loc[(df['VEGETABLES'] < 4) & (df['SUGARDRINK'] > 1) & (df['FRUIT'] < 4),\n",
    "       'VEGETABLES'].count() / df['VEGETABLES'].count()\n"
   ],
   "metadata": {
    "collapsed": false
   }
  },
  {
   "cell_type": "code",
   "execution_count": 27,
   "outputs": [],
   "source": [
    "# Download the FIPS state reference info, in CSV format, from https://www2.census.gov/geo/docs/reference/state.txt. Turn this into a data frame, with the STATE column as the index. The only other column we care about is STATE_NAME.\n",
    "\n",
    "fips_url = 'https://www2.census.gov/geo/docs/reference/state.txt'\n",
    "fips_df = pd.read_csv(fips_url, sep = '|', usecols=[\"STATE\", \"STATE_NAME\"], index_col=\"STATE\")"
   ],
   "metadata": {
    "collapsed": false
   }
  },
  {
   "cell_type": "code",
   "execution_count": 28,
   "outputs": [
    {
     "data": {
      "text/plain": "       STATE_NAME\nSTATE            \n1         Alabama\n2          Alaska\n4         Arizona\n5        Arkansas\n6      California",
      "text/html": "<div>\n<style scoped>\n    .dataframe tbody tr th:only-of-type {\n        vertical-align: middle;\n    }\n\n    .dataframe tbody tr th {\n        vertical-align: top;\n    }\n\n    .dataframe thead th {\n        text-align: right;\n    }\n</style>\n<table border=\"1\" class=\"dataframe\">\n  <thead>\n    <tr style=\"text-align: right;\">\n      <th></th>\n      <th>STATE_NAME</th>\n    </tr>\n    <tr>\n      <th>STATE</th>\n      <th></th>\n    </tr>\n  </thead>\n  <tbody>\n    <tr>\n      <th>1</th>\n      <td>Alabama</td>\n    </tr>\n    <tr>\n      <th>2</th>\n      <td>Alaska</td>\n    </tr>\n    <tr>\n      <th>4</th>\n      <td>Arizona</td>\n    </tr>\n    <tr>\n      <th>5</th>\n      <td>Arkansas</td>\n    </tr>\n    <tr>\n      <th>6</th>\n      <td>California</td>\n    </tr>\n  </tbody>\n</table>\n</div>"
     },
     "execution_count": 28,
     "metadata": {},
     "output_type": "execute_result"
    }
   ],
   "source": [
    "fips_df.head()"
   ],
   "metadata": {
    "collapsed": false
   }
  },
  {
   "cell_type": "code",
   "execution_count": 29,
   "outputs": [
    {
     "data": {
      "text/plain": "        VEGETABLES  FRUIT  SUGARDRINK STATE_NAME\nFIPSST                                          \n1              5.0    5.0         1.0    Alabama\n1              NaN    NaN         NaN    Alabama\n1              NaN    NaN         NaN    Alabama\n1              3.0    3.0         1.0    Alabama\n1              NaN    NaN         NaN    Alabama",
      "text/html": "<div>\n<style scoped>\n    .dataframe tbody tr th:only-of-type {\n        vertical-align: middle;\n    }\n\n    .dataframe tbody tr th {\n        vertical-align: top;\n    }\n\n    .dataframe thead th {\n        text-align: right;\n    }\n</style>\n<table border=\"1\" class=\"dataframe\">\n  <thead>\n    <tr style=\"text-align: right;\">\n      <th></th>\n      <th>VEGETABLES</th>\n      <th>FRUIT</th>\n      <th>SUGARDRINK</th>\n      <th>STATE_NAME</th>\n    </tr>\n    <tr>\n      <th>FIPSST</th>\n      <th></th>\n      <th></th>\n      <th></th>\n      <th></th>\n    </tr>\n  </thead>\n  <tbody>\n    <tr>\n      <th>1</th>\n      <td>5.0</td>\n      <td>5.0</td>\n      <td>1.0</td>\n      <td>Alabama</td>\n    </tr>\n    <tr>\n      <th>1</th>\n      <td>NaN</td>\n      <td>NaN</td>\n      <td>NaN</td>\n      <td>Alabama</td>\n    </tr>\n    <tr>\n      <th>1</th>\n      <td>NaN</td>\n      <td>NaN</td>\n      <td>NaN</td>\n      <td>Alabama</td>\n    </tr>\n    <tr>\n      <th>1</th>\n      <td>3.0</td>\n      <td>3.0</td>\n      <td>1.0</td>\n      <td>Alabama</td>\n    </tr>\n    <tr>\n      <th>1</th>\n      <td>NaN</td>\n      <td>NaN</td>\n      <td>NaN</td>\n      <td>Alabama</td>\n    </tr>\n  </tbody>\n</table>\n</div>"
     },
     "execution_count": 29,
     "metadata": {},
     "output_type": "execute_result"
    }
   ],
   "source": [
    "joined_df = df.join(fips_df)\n",
    "joined_df.head()"
   ],
   "metadata": {
    "collapsed": false
   }
  },
  {
   "cell_type": "code",
   "execution_count": 30,
   "outputs": [
    {
     "data": {
      "text/plain": "STATE_NAME\nVermont                 30.000000\nMaine                   33.501259\nDistrict of Columbia    35.218509\nMinnesota               38.235294\nNew Hampshire           38.977636\nMontana                 39.265537\nKansas                  40.860215\nOregon                  41.118421\nTennessee               41.964286\nAlaska                  42.045455\nCalifornia              42.151163\nColorado                42.574257\nOhio                    42.660550\nWashington              42.896936\nMassachusetts           42.948718\nWisconsin               43.283582\nMaryland                43.971631\nNorth Dakota            44.342508\nWyoming                 44.943820\nConnecticut             45.405405\nIowa                    46.089385\nNorth Carolina          46.710526\nNew Mexico              46.905537\nSouth Carolina          47.040498\nMichigan                47.222222\nMissouri                47.321429\nPennsylvania            47.826087\nVirginia                47.854785\nWest Virginia           48.245614\nGeorgia                 49.006623\nIllinois                49.473684\nNew York                49.526814\nNebraska                49.624060\nArizona                 50.476190\nRhode Island            50.720461\nTexas                   51.111111\nIdaho                   51.525424\nNew Jersey              51.685393\nSouth Dakota            51.694915\nUtah                    52.254642\nIndiana                 52.380952\nNevada                  53.481013\nKentucky                53.709199\nHawaii                  53.731343\nDelaware                53.801170\nFlorida                 54.103343\nOklahoma                56.725146\nArkansas                57.621951\nAlabama                 57.817109\nMississippi             60.122699\nLouisiana               63.333333\nName: VEGETABLES, dtype: float64"
     },
     "execution_count": 30,
     "metadata": {},
     "output_type": "execute_result"
    }
   ],
   "source": [
    "# What percentage of children, per state, had, on average, less than one vegetaable per day during the week preceding the study?\n",
    "\n",
    "# Logic We take all of the rows from the joined data frame\n",
    "#\n",
    "# Keep only those rows where VEGETABLES < 4\n",
    "#\n",
    "# Keep only the STATE_NAME and VEGETABLES columns\n",
    "#\n",
    "# For each value of STATE_NAME, count how many rows there are\n",
    "#\n",
    "# But we don’t want to know the raw number. We want to know the percentage of children eating so poorly. For that, we’ll first grab the VEGETABLES column (so that we get a series)\n",
    "\n",
    "# Then we’ll divide that series by the total number of rows per state. This means that we’ll run a second “groupby”, this time without any filter:\n",
    "\n",
    "(joined_df.loc[joined_df['VEGETABLES'] < 4,\n",
    "              ['STATE_NAME','VEGETABLES']].groupby('STATE_NAME').count()['VEGETABLES'] / joined_df.groupby('STATE_NAME')['VEGETABLES'].count() * 100).sort_values()"
   ],
   "metadata": {
    "collapsed": false
   }
  },
  {
   "cell_type": "code",
   "execution_count": null,
   "outputs": [],
   "source": [],
   "metadata": {
    "collapsed": false
   }
  }
 ],
 "metadata": {
  "kernelspec": {
   "display_name": "Python 3",
   "language": "python",
   "name": "python3"
  },
  "language_info": {
   "codemirror_mode": {
    "name": "ipython",
    "version": 2
   },
   "file_extension": ".py",
   "mimetype": "text/x-python",
   "name": "python",
   "nbconvert_exporter": "python",
   "pygments_lexer": "ipython2",
   "version": "2.7.6"
  }
 },
 "nbformat": 4,
 "nbformat_minor": 0
}
