{
 "cells": [
  {
   "cell_type": "markdown",
   "source": [
    "There always a lot of news going on, but one of the biggest, and most horrifying, stories from the last few weeks is the massive earthquake that affected turkey and Syria, with the initial shock taking place on February 6th. The report that I've been reading led me to wonder|: How frequently do earthquakes occur? how strong are they normally? Was this one unusually strong?\n",
    "\n",
    "I decided to dig into information about earthquakes. The [US Geological Survey](https://www.usgs.gov/), a scientific research agency that’s part of the Department of the Interior, [offers many tools and data sets for anyone interested in learning more about this subject](https://www.usgs.gov/programs/earthquake-hazards/data).\n",
    "\n",
    "For this week’s data, I went to the USGS page that lets you [search their earthquake catalog](https://earthquake.usgs.gov/earthquakes/search/#{%22feed%22%3A%221437493916387%22%2C%22search%22%3A{%22id%22%3A%221437493916387%22%2C%22name%22%3A%22Search%20Results%22%2C%22isSearch%22%3Atrue%2C%22params%22%3A{%22producttype%22%3A%22losspager%22%2C%22orderby%22%3A%22time%22}}%2C%22listFormat%22%3A%22losspager%22%2C%22sort%22%3A%22newest%22%2C%22basemap%22%3A%22grayscale%22%2C%22autoUpdate%22%3Afalse%2C%22restrictListToMap%22%3Atrue%2C%22timeZone%22%3A%22utc%22%2C%22mapposition%22%3A[[-85%2C0]%2C[85%2C360]]%2C%22overlays%22%3A{%22plates%22%3Atrue}%2C%22viewModes%22%3A{%22map%22%3Atrue%2C%22list%22%3Atrue%2C%22settings%22%3Atrue%2C%22help%22%3Afalse}}). I chose to see earthquakes with a minimum magnitude of 2.5, between January 1st, 2000 and today (February 15, 2023). I asked to see all data, from all all over the world. I chose the CSV output option, and ended up with the following URL:\n",
    "\n",
    "https://earthquake.usgs.gov/fdsnws/event/1/query.csv?starttime=2000-01-01%2000:00:00&endtime=2023-02-15%2000:00:00&minmagnitude=2.5&orderby=time&producttype=losspager\n",
    "\n",
    "That gives us a data set of more than 8,000 earthquakes from all over the world, for more than 20 years, which should be enough to ask and answer some interesting questions:\n",
    "\n",
    "1. Read the downloaded CSV file\n",
    "\n",
    "2. How many seismic events take place each year? In which of the last 20 years did we have the greatest number of such events?\n",
    "\n",
    "3. What are common magnitudes? Looking only at the integer portion of the magnitudes, how often does each value occur?\n",
    "\n",
    "4. How many seismic events took place in Turkey on February 6th? What was their average magnitude? What was the mean magnitude?\n",
    "\n",
    "5. Are earthquakes common in Turkey? From the \"place\" column, extract the text following the final comma, and get the 30 most common places in the world with earthquakes.\n",
    "\n",
    "6. Are serious earthquakes common in Turkey? Rerun the previous query, but only look for those with a magnitude of 5 or greater.\n",
    "\n",
    "The learning goals for this week’s questions are to work with time information, work with strings, and handle some missing data."
   ],
   "metadata": {
    "collapsed": false
   }
  },
  {
   "cell_type": "code",
   "execution_count": 1,
   "outputs": [],
   "source": [
    "# Import Library\n",
    "import pandas as pd\n",
    "import numpy as np"
   ],
   "metadata": {
    "collapsed": false
   }
  },
  {
   "cell_type": "code",
   "execution_count": 6,
   "outputs": [
    {
     "data": {
      "text/plain": "                              time   latitude   longitude    depth   mag  \\\n0 2023-02-14 13:16:50.827000+00:00  45.099800   23.201300   10.000  5.60   \n1 2023-02-14 02:03:16.305000+00:00 -15.355200  167.541000  119.646  5.20   \n2 2023-02-13 09:18:12.524000+00:00 -29.369800 -178.971800  354.000  6.10   \n3 2023-02-12 02:21:23.340000+00:00  19.149833 -155.370833   30.210  3.83   \n4 2023-02-11 15:31:26.636000+00:00 -35.361600  -15.569700   10.000  5.60   \n5 2023-02-11 08:55:05.019000+00:00   3.589200  126.692300   25.000  5.90   \n6 2023-02-09 21:12:19.574000+00:00  -1.275200   67.561600   10.000  5.50   \n7 2023-02-09 10:53:16.999000+00:00 -10.760000  161.659300   35.000  5.50   \n8 2023-02-09 09:09:16.562000+00:00 -55.715000  -27.188200   35.000  5.40   \n9 2023-02-08 15:16:16.982000+00:00  16.733700  -86.057400   10.000  5.50   \n\n  magType    nst    gap    dmin   rms  ...                   updated  \\\n0     mww  197.0   27.0   1.217  0.60  ...  2023-07-28T14:12:02.324Z   \n1     mww  130.0   20.0   0.338  0.80  ...  2023-04-22T21:33:07.040Z   \n2     mww  120.0   34.0   0.919  1.07  ...  2023-04-22T21:33:05.040Z   \n3      ml   49.0  180.0     NaN  0.15  ...  2023-04-22T21:33:01.040Z   \n4     mww   43.0   85.0  21.229  0.63  ...  2023-04-15T21:39:58.040Z   \n5     mww  200.0   36.0   2.879  0.88  ...  2023-04-15T21:39:57.040Z   \n6     mww   61.0   38.0   5.710  0.60  ...  2023-04-15T21:39:52.040Z   \n7     mww   99.0   28.0   2.137  0.71  ...  2023-04-15T21:39:51.040Z   \n8     mww   68.0   67.0   5.542  0.44  ...  2023-04-15T21:39:50.040Z   \n9     mww  201.0   22.0   2.908  0.55  ...  2023-04-15T21:39:48.040Z   \n\n                                   place        type horizontalError  \\\n0           0 km ESE of Lele?ti, Romania  earthquake            5.14   \n1       44 km ENE of Luganville, Vanuatu  earthquake            7.67   \n2          Kermadec Islands, New Zealand  earthquake            9.97   \n3            12 km ESE of P?hala, Hawaii  earthquake            0.54   \n4                Tristan da Cunha region  earthquake           12.93   \n5    242 km SE of Sarangani, Philippines  earthquake            6.76   \n6                        Carlsberg Ridge  earthquake            8.53   \n7  44 km SW of Kirakira, Solomon Islands  earthquake            7.20   \n8          South Sandwich Islands region  earthquake           10.26   \n9                      north of Honduras  earthquake            6.18   \n\n  depthError  magError  magNst    status  locationSource magSource  \n0      1.742    0.0320    95.0  reviewed              us        us  \n1      3.289    0.0890    12.0  reviewed              us        us  \n2      1.679    0.0490    40.0  reviewed              us        us  \n3      0.710    0.1112    39.0  reviewed              hv        hv  \n4      1.881    0.0730    18.0  reviewed              us        us  \n5      1.860    0.0520    35.0  reviewed              us        us  \n6      1.835    0.0620    25.0  reviewed              us        us  \n7      1.833    0.0650    23.0  reviewed              us        us  \n8      1.885    0.0830    14.0  reviewed              us        us  \n9      1.777    0.0340    84.0  reviewed              us        us  \n\n[10 rows x 22 columns]",
      "text/html": "<div>\n<style scoped>\n    .dataframe tbody tr th:only-of-type {\n        vertical-align: middle;\n    }\n\n    .dataframe tbody tr th {\n        vertical-align: top;\n    }\n\n    .dataframe thead th {\n        text-align: right;\n    }\n</style>\n<table border=\"1\" class=\"dataframe\">\n  <thead>\n    <tr style=\"text-align: right;\">\n      <th></th>\n      <th>time</th>\n      <th>latitude</th>\n      <th>longitude</th>\n      <th>depth</th>\n      <th>mag</th>\n      <th>magType</th>\n      <th>nst</th>\n      <th>gap</th>\n      <th>dmin</th>\n      <th>rms</th>\n      <th>...</th>\n      <th>updated</th>\n      <th>place</th>\n      <th>type</th>\n      <th>horizontalError</th>\n      <th>depthError</th>\n      <th>magError</th>\n      <th>magNst</th>\n      <th>status</th>\n      <th>locationSource</th>\n      <th>magSource</th>\n    </tr>\n  </thead>\n  <tbody>\n    <tr>\n      <th>0</th>\n      <td>2023-02-14 13:16:50.827000+00:00</td>\n      <td>45.099800</td>\n      <td>23.201300</td>\n      <td>10.000</td>\n      <td>5.60</td>\n      <td>mww</td>\n      <td>197.0</td>\n      <td>27.0</td>\n      <td>1.217</td>\n      <td>0.60</td>\n      <td>...</td>\n      <td>2023-07-28T14:12:02.324Z</td>\n      <td>0 km ESE of Lele?ti, Romania</td>\n      <td>earthquake</td>\n      <td>5.14</td>\n      <td>1.742</td>\n      <td>0.0320</td>\n      <td>95.0</td>\n      <td>reviewed</td>\n      <td>us</td>\n      <td>us</td>\n    </tr>\n    <tr>\n      <th>1</th>\n      <td>2023-02-14 02:03:16.305000+00:00</td>\n      <td>-15.355200</td>\n      <td>167.541000</td>\n      <td>119.646</td>\n      <td>5.20</td>\n      <td>mww</td>\n      <td>130.0</td>\n      <td>20.0</td>\n      <td>0.338</td>\n      <td>0.80</td>\n      <td>...</td>\n      <td>2023-04-22T21:33:07.040Z</td>\n      <td>44 km ENE of Luganville, Vanuatu</td>\n      <td>earthquake</td>\n      <td>7.67</td>\n      <td>3.289</td>\n      <td>0.0890</td>\n      <td>12.0</td>\n      <td>reviewed</td>\n      <td>us</td>\n      <td>us</td>\n    </tr>\n    <tr>\n      <th>2</th>\n      <td>2023-02-13 09:18:12.524000+00:00</td>\n      <td>-29.369800</td>\n      <td>-178.971800</td>\n      <td>354.000</td>\n      <td>6.10</td>\n      <td>mww</td>\n      <td>120.0</td>\n      <td>34.0</td>\n      <td>0.919</td>\n      <td>1.07</td>\n      <td>...</td>\n      <td>2023-04-22T21:33:05.040Z</td>\n      <td>Kermadec Islands, New Zealand</td>\n      <td>earthquake</td>\n      <td>9.97</td>\n      <td>1.679</td>\n      <td>0.0490</td>\n      <td>40.0</td>\n      <td>reviewed</td>\n      <td>us</td>\n      <td>us</td>\n    </tr>\n    <tr>\n      <th>3</th>\n      <td>2023-02-12 02:21:23.340000+00:00</td>\n      <td>19.149833</td>\n      <td>-155.370833</td>\n      <td>30.210</td>\n      <td>3.83</td>\n      <td>ml</td>\n      <td>49.0</td>\n      <td>180.0</td>\n      <td>NaN</td>\n      <td>0.15</td>\n      <td>...</td>\n      <td>2023-04-22T21:33:01.040Z</td>\n      <td>12 km ESE of P?hala, Hawaii</td>\n      <td>earthquake</td>\n      <td>0.54</td>\n      <td>0.710</td>\n      <td>0.1112</td>\n      <td>39.0</td>\n      <td>reviewed</td>\n      <td>hv</td>\n      <td>hv</td>\n    </tr>\n    <tr>\n      <th>4</th>\n      <td>2023-02-11 15:31:26.636000+00:00</td>\n      <td>-35.361600</td>\n      <td>-15.569700</td>\n      <td>10.000</td>\n      <td>5.60</td>\n      <td>mww</td>\n      <td>43.0</td>\n      <td>85.0</td>\n      <td>21.229</td>\n      <td>0.63</td>\n      <td>...</td>\n      <td>2023-04-15T21:39:58.040Z</td>\n      <td>Tristan da Cunha region</td>\n      <td>earthquake</td>\n      <td>12.93</td>\n      <td>1.881</td>\n      <td>0.0730</td>\n      <td>18.0</td>\n      <td>reviewed</td>\n      <td>us</td>\n      <td>us</td>\n    </tr>\n    <tr>\n      <th>5</th>\n      <td>2023-02-11 08:55:05.019000+00:00</td>\n      <td>3.589200</td>\n      <td>126.692300</td>\n      <td>25.000</td>\n      <td>5.90</td>\n      <td>mww</td>\n      <td>200.0</td>\n      <td>36.0</td>\n      <td>2.879</td>\n      <td>0.88</td>\n      <td>...</td>\n      <td>2023-04-15T21:39:57.040Z</td>\n      <td>242 km SE of Sarangani, Philippines</td>\n      <td>earthquake</td>\n      <td>6.76</td>\n      <td>1.860</td>\n      <td>0.0520</td>\n      <td>35.0</td>\n      <td>reviewed</td>\n      <td>us</td>\n      <td>us</td>\n    </tr>\n    <tr>\n      <th>6</th>\n      <td>2023-02-09 21:12:19.574000+00:00</td>\n      <td>-1.275200</td>\n      <td>67.561600</td>\n      <td>10.000</td>\n      <td>5.50</td>\n      <td>mww</td>\n      <td>61.0</td>\n      <td>38.0</td>\n      <td>5.710</td>\n      <td>0.60</td>\n      <td>...</td>\n      <td>2023-04-15T21:39:52.040Z</td>\n      <td>Carlsberg Ridge</td>\n      <td>earthquake</td>\n      <td>8.53</td>\n      <td>1.835</td>\n      <td>0.0620</td>\n      <td>25.0</td>\n      <td>reviewed</td>\n      <td>us</td>\n      <td>us</td>\n    </tr>\n    <tr>\n      <th>7</th>\n      <td>2023-02-09 10:53:16.999000+00:00</td>\n      <td>-10.760000</td>\n      <td>161.659300</td>\n      <td>35.000</td>\n      <td>5.50</td>\n      <td>mww</td>\n      <td>99.0</td>\n      <td>28.0</td>\n      <td>2.137</td>\n      <td>0.71</td>\n      <td>...</td>\n      <td>2023-04-15T21:39:51.040Z</td>\n      <td>44 km SW of Kirakira, Solomon Islands</td>\n      <td>earthquake</td>\n      <td>7.20</td>\n      <td>1.833</td>\n      <td>0.0650</td>\n      <td>23.0</td>\n      <td>reviewed</td>\n      <td>us</td>\n      <td>us</td>\n    </tr>\n    <tr>\n      <th>8</th>\n      <td>2023-02-09 09:09:16.562000+00:00</td>\n      <td>-55.715000</td>\n      <td>-27.188200</td>\n      <td>35.000</td>\n      <td>5.40</td>\n      <td>mww</td>\n      <td>68.0</td>\n      <td>67.0</td>\n      <td>5.542</td>\n      <td>0.44</td>\n      <td>...</td>\n      <td>2023-04-15T21:39:50.040Z</td>\n      <td>South Sandwich Islands region</td>\n      <td>earthquake</td>\n      <td>10.26</td>\n      <td>1.885</td>\n      <td>0.0830</td>\n      <td>14.0</td>\n      <td>reviewed</td>\n      <td>us</td>\n      <td>us</td>\n    </tr>\n    <tr>\n      <th>9</th>\n      <td>2023-02-08 15:16:16.982000+00:00</td>\n      <td>16.733700</td>\n      <td>-86.057400</td>\n      <td>10.000</td>\n      <td>5.50</td>\n      <td>mww</td>\n      <td>201.0</td>\n      <td>22.0</td>\n      <td>2.908</td>\n      <td>0.55</td>\n      <td>...</td>\n      <td>2023-04-15T21:39:48.040Z</td>\n      <td>north of Honduras</td>\n      <td>earthquake</td>\n      <td>6.18</td>\n      <td>1.777</td>\n      <td>0.0340</td>\n      <td>84.0</td>\n      <td>reviewed</td>\n      <td>us</td>\n      <td>us</td>\n    </tr>\n  </tbody>\n</table>\n<p>10 rows × 22 columns</p>\n</div>"
     },
     "execution_count": 6,
     "metadata": {},
     "output_type": "execute_result"
    }
   ],
   "source": [
    "# 1. Read the downloaded CSV\n",
    "filepath = \"/Users/tomioredein/data_analyst/pandas_port/pandas_portfolio/pandas_port/Earthquake/query.csv\"\n",
    "df = pd.read_csv(filepath, parse_dates=[\"time\"])\n",
    "df.head(10)\n"
   ],
   "metadata": {
    "collapsed": false
   }
  },
  {
   "cell_type": "code",
   "execution_count": 27,
   "outputs": [
    {
     "data": {
      "text/plain": "time\n2021    1023\n2020     931\n2019     848\n2018     831\n2014     755\n2022     744\n2015     693\n2016     676\n2013     610\n2017     592\n2023      90\n2010      57\n2012      20\n2008      19\n2009      18\n2005      17\n2001      15\n2011      13\n2002      11\n2003      10\n2004       8\n2000       8\n2006       5\n2007       3\nName: count, dtype: int64"
     },
     "execution_count": 27,
     "metadata": {},
     "output_type": "execute_result"
    }
   ],
   "source": [
    "df['time'].dt.year.value_counts()"
   ],
   "metadata": {
    "collapsed": false
   }
  },
  {
   "cell_type": "code",
   "execution_count": 14,
   "outputs": [
    {
     "data": {
      "text/plain": "mag\n2    0.001116\n3    0.059794\n4    0.197618\n5    0.567547\n6    0.155688\n7    0.016747\n8    0.001489\nName: proportion, dtype: float64"
     },
     "execution_count": 14,
     "metadata": {},
     "output_type": "execute_result"
    }
   ],
   "source": [
    "df['mag'].astype(np.int8).value_counts(normalize=True).sort_index()"
   ],
   "metadata": {
    "collapsed": false
   }
  },
  {
   "cell_type": "code",
   "execution_count": 28,
   "outputs": [
    {
     "data": {
      "text/plain": "                                  latitude  longitude   depth  mag magType  \\\ntime                                                                         \n2023-02-06 15:33:32.721000+00:00   38.1900    38.1756   7.430  5.4     mwr   \n2023-02-06 15:14:34.402000+00:00   37.8791    37.7355  10.000  4.9     mwr   \n2023-02-06 12:02:11.275000+00:00   38.0582    36.5114   8.516  6.0      mb   \n2023-02-06 10:51:30.994000+00:00   38.2480    38.1847  10.000  5.7      mb   \n2023-02-06 10:35:58.161000+00:00   38.0249    37.8023  10.000  5.8      mb   \n2023-02-06 10:26:46.742000+00:00   38.0315    38.0984  10.000  6.0      mb   \n2023-02-06 10:24:48.811000+00:00   38.0106    37.1962   7.432  7.5     mww   \n2023-02-06 02:03:37.341000+00:00   37.7712    37.9141  16.929  5.3      mb   \n2023-02-06 01:36:27.357000+00:00   36.9921    36.6832  10.000  5.6      mb   \n2023-02-06 01:28:15.784000+00:00   37.1893    36.8929   9.797  6.7     mww   \n2023-02-06 01:26:50.869000+00:00   37.2252    37.0001  10.000  5.7      mb   \n2023-02-06 01:17:34.342000+00:00   37.2256    37.0143  10.000  7.8     mww   \n\n                                    nst   gap   dmin   rms net  ...  \\\ntime                                                            ...   \n2023-02-06 15:33:32.721000+00:00  112.0  29.0  1.273  0.80  us  ...   \n2023-02-06 15:14:34.402000+00:00  132.0  28.0  0.820  0.82  us  ...   \n2023-02-06 12:02:11.275000+00:00  138.0  25.0  0.356  0.54  us  ...   \n2023-02-06 10:51:30.994000+00:00   96.0  42.0  0.950  0.97  us  ...   \n2023-02-06 10:35:58.161000+00:00  109.0  56.0  0.973  0.90  us  ...   \n2023-02-06 10:26:46.742000+00:00   65.0  63.0  1.111  0.88  us  ...   \n2023-02-06 10:24:48.811000+00:00  111.0  29.0  0.730  0.70  us  ...   \n2023-02-06 02:03:37.341000+00:00  154.0  35.0  0.792  0.61  us  ...   \n2023-02-06 01:36:27.357000+00:00  167.0  47.0  0.458  0.59  us  ...   \n2023-02-06 01:28:15.784000+00:00  194.0  19.0  0.254  0.68  us  ...   \n2023-02-06 01:26:50.869000+00:00   94.0  75.0  0.175  1.32  us  ...   \n2023-02-06 01:17:34.342000+00:00  266.0  17.0  0.165  0.66  us  ...   \n\n                                                                              place  \\\ntime                                                                                  \n2023-02-06 15:33:32.721000+00:00                                     eastern Turkey   \n2023-02-06 15:14:34.402000+00:00                        13 km NE of Gölba??, Turkey   \n2023-02-06 12:02:11.275000+00:00                         4 km NNE of Göksun, Turkey   \n2023-02-06 10:51:30.994000+00:00                       7 km SW of Ye?ilyurt, Turkey   \n2023-02-06 10:35:58.161000+00:00                      9 km SW of Do?an?ehir, Turkey   \n2023-02-06 10:26:46.742000+00:00                        12 km W of Çelikhan, Turkey   \n2023-02-06 10:24:48.811000+00:00  Elbistan earthquake, Kahramanmaras earthquake ...   \n2023-02-06 02:03:37.341000+00:00                                     Central Turkey   \n2023-02-06 01:36:27.357000+00:00                         Turkey-Syria border region   \n2023-02-06 01:28:15.784000+00:00                         14 km E of Nurda??, Turkey   \n2023-02-06 01:26:50.869000+00:00                       24 km ENE of Nurda??, Turkey   \n2023-02-06 01:17:34.342000+00:00  Pazarcik earthquake, Kahramanmaras earthquake ...   \n\n                                        type horizontalError depthError  \\\ntime                                                                      \n2023-02-06 15:33:32.721000+00:00  earthquake            5.06      1.918   \n2023-02-06 15:14:34.402000+00:00  earthquake            5.22      1.804   \n2023-02-06 12:02:11.275000+00:00  earthquake            4.32      3.954   \n2023-02-06 10:51:30.994000+00:00  earthquake            4.74      1.773   \n2023-02-06 10:35:58.161000+00:00  earthquake            4.50      1.797   \n2023-02-06 10:26:46.742000+00:00  earthquake            4.28      1.605   \n2023-02-06 10:24:48.811000+00:00  earthquake            5.09      3.709   \n2023-02-06 02:03:37.341000+00:00  earthquake            4.28      3.347   \n2023-02-06 01:36:27.357000+00:00  earthquake            6.20      1.760   \n2023-02-06 01:28:15.784000+00:00  earthquake            7.68      3.333   \n2023-02-06 01:26:50.869000+00:00  earthquake            2.35      1.789   \n2023-02-06 01:17:34.342000+00:00  earthquake            5.23      1.784   \n\n                                  magError  magNst    status  locationSource  \\\ntime                                                                           \n2023-02-06 15:33:32.721000+00:00     0.080    15.0  reviewed              us   \n2023-02-06 15:14:34.402000+00:00     0.063    24.0  reviewed              us   \n2023-02-06 12:02:11.275000+00:00     0.024   647.0  reviewed              us   \n2023-02-06 10:51:30.994000+00:00     0.047   158.0  reviewed              us   \n2023-02-06 10:35:58.161000+00:00     0.051   141.0  reviewed              us   \n2023-02-06 10:26:46.742000+00:00     0.081    57.0  reviewed              us   \n2023-02-06 10:24:48.811000+00:00     0.041    58.0  reviewed              us   \n2023-02-06 02:03:37.341000+00:00     0.052   122.0  reviewed              us   \n2023-02-06 01:36:27.357000+00:00     0.052   128.0  reviewed              us   \n2023-02-06 01:28:15.784000+00:00     0.098    10.0  reviewed              us   \n2023-02-06 01:26:50.869000+00:00     0.072    69.0  reviewed              us   \n2023-02-06 01:17:34.342000+00:00     0.050    38.0  reviewed              us   \n\n                                 magSource                    place_extracted  \ntime                                                                           \n2023-02-06 15:33:32.721000+00:00        us                     eastern Turkey  \n2023-02-06 15:14:34.402000+00:00        us                             Turkey  \n2023-02-06 12:02:11.275000+00:00        us                             Turkey  \n2023-02-06 10:51:30.994000+00:00        us                             Turkey  \n2023-02-06 10:35:58.161000+00:00        us                             Turkey  \n2023-02-06 10:26:46.742000+00:00        us                             Turkey  \n2023-02-06 10:24:48.811000+00:00        us  Kahramanmaras earthquake sequence  \n2023-02-06 02:03:37.341000+00:00        us                     Central Turkey  \n2023-02-06 01:36:27.357000+00:00        us         Turkey-Syria border region  \n2023-02-06 01:28:15.784000+00:00        us                             Turkey  \n2023-02-06 01:26:50.869000+00:00        us                             Turkey  \n2023-02-06 01:17:34.342000+00:00        us  Kahramanmaras earthquake sequence  \n\n[12 rows x 22 columns]",
      "text/html": "<div>\n<style scoped>\n    .dataframe tbody tr th:only-of-type {\n        vertical-align: middle;\n    }\n\n    .dataframe tbody tr th {\n        vertical-align: top;\n    }\n\n    .dataframe thead th {\n        text-align: right;\n    }\n</style>\n<table border=\"1\" class=\"dataframe\">\n  <thead>\n    <tr style=\"text-align: right;\">\n      <th></th>\n      <th>latitude</th>\n      <th>longitude</th>\n      <th>depth</th>\n      <th>mag</th>\n      <th>magType</th>\n      <th>nst</th>\n      <th>gap</th>\n      <th>dmin</th>\n      <th>rms</th>\n      <th>net</th>\n      <th>...</th>\n      <th>place</th>\n      <th>type</th>\n      <th>horizontalError</th>\n      <th>depthError</th>\n      <th>magError</th>\n      <th>magNst</th>\n      <th>status</th>\n      <th>locationSource</th>\n      <th>magSource</th>\n      <th>place_extracted</th>\n    </tr>\n    <tr>\n      <th>time</th>\n      <th></th>\n      <th></th>\n      <th></th>\n      <th></th>\n      <th></th>\n      <th></th>\n      <th></th>\n      <th></th>\n      <th></th>\n      <th></th>\n      <th></th>\n      <th></th>\n      <th></th>\n      <th></th>\n      <th></th>\n      <th></th>\n      <th></th>\n      <th></th>\n      <th></th>\n      <th></th>\n      <th></th>\n    </tr>\n  </thead>\n  <tbody>\n    <tr>\n      <th>2023-02-06 15:33:32.721000+00:00</th>\n      <td>38.1900</td>\n      <td>38.1756</td>\n      <td>7.430</td>\n      <td>5.4</td>\n      <td>mwr</td>\n      <td>112.0</td>\n      <td>29.0</td>\n      <td>1.273</td>\n      <td>0.80</td>\n      <td>us</td>\n      <td>...</td>\n      <td>eastern Turkey</td>\n      <td>earthquake</td>\n      <td>5.06</td>\n      <td>1.918</td>\n      <td>0.080</td>\n      <td>15.0</td>\n      <td>reviewed</td>\n      <td>us</td>\n      <td>us</td>\n      <td>eastern Turkey</td>\n    </tr>\n    <tr>\n      <th>2023-02-06 15:14:34.402000+00:00</th>\n      <td>37.8791</td>\n      <td>37.7355</td>\n      <td>10.000</td>\n      <td>4.9</td>\n      <td>mwr</td>\n      <td>132.0</td>\n      <td>28.0</td>\n      <td>0.820</td>\n      <td>0.82</td>\n      <td>us</td>\n      <td>...</td>\n      <td>13 km NE of Gölba??, Turkey</td>\n      <td>earthquake</td>\n      <td>5.22</td>\n      <td>1.804</td>\n      <td>0.063</td>\n      <td>24.0</td>\n      <td>reviewed</td>\n      <td>us</td>\n      <td>us</td>\n      <td>Turkey</td>\n    </tr>\n    <tr>\n      <th>2023-02-06 12:02:11.275000+00:00</th>\n      <td>38.0582</td>\n      <td>36.5114</td>\n      <td>8.516</td>\n      <td>6.0</td>\n      <td>mb</td>\n      <td>138.0</td>\n      <td>25.0</td>\n      <td>0.356</td>\n      <td>0.54</td>\n      <td>us</td>\n      <td>...</td>\n      <td>4 km NNE of Göksun, Turkey</td>\n      <td>earthquake</td>\n      <td>4.32</td>\n      <td>3.954</td>\n      <td>0.024</td>\n      <td>647.0</td>\n      <td>reviewed</td>\n      <td>us</td>\n      <td>us</td>\n      <td>Turkey</td>\n    </tr>\n    <tr>\n      <th>2023-02-06 10:51:30.994000+00:00</th>\n      <td>38.2480</td>\n      <td>38.1847</td>\n      <td>10.000</td>\n      <td>5.7</td>\n      <td>mb</td>\n      <td>96.0</td>\n      <td>42.0</td>\n      <td>0.950</td>\n      <td>0.97</td>\n      <td>us</td>\n      <td>...</td>\n      <td>7 km SW of Ye?ilyurt, Turkey</td>\n      <td>earthquake</td>\n      <td>4.74</td>\n      <td>1.773</td>\n      <td>0.047</td>\n      <td>158.0</td>\n      <td>reviewed</td>\n      <td>us</td>\n      <td>us</td>\n      <td>Turkey</td>\n    </tr>\n    <tr>\n      <th>2023-02-06 10:35:58.161000+00:00</th>\n      <td>38.0249</td>\n      <td>37.8023</td>\n      <td>10.000</td>\n      <td>5.8</td>\n      <td>mb</td>\n      <td>109.0</td>\n      <td>56.0</td>\n      <td>0.973</td>\n      <td>0.90</td>\n      <td>us</td>\n      <td>...</td>\n      <td>9 km SW of Do?an?ehir, Turkey</td>\n      <td>earthquake</td>\n      <td>4.50</td>\n      <td>1.797</td>\n      <td>0.051</td>\n      <td>141.0</td>\n      <td>reviewed</td>\n      <td>us</td>\n      <td>us</td>\n      <td>Turkey</td>\n    </tr>\n    <tr>\n      <th>2023-02-06 10:26:46.742000+00:00</th>\n      <td>38.0315</td>\n      <td>38.0984</td>\n      <td>10.000</td>\n      <td>6.0</td>\n      <td>mb</td>\n      <td>65.0</td>\n      <td>63.0</td>\n      <td>1.111</td>\n      <td>0.88</td>\n      <td>us</td>\n      <td>...</td>\n      <td>12 km W of Çelikhan, Turkey</td>\n      <td>earthquake</td>\n      <td>4.28</td>\n      <td>1.605</td>\n      <td>0.081</td>\n      <td>57.0</td>\n      <td>reviewed</td>\n      <td>us</td>\n      <td>us</td>\n      <td>Turkey</td>\n    </tr>\n    <tr>\n      <th>2023-02-06 10:24:48.811000+00:00</th>\n      <td>38.0106</td>\n      <td>37.1962</td>\n      <td>7.432</td>\n      <td>7.5</td>\n      <td>mww</td>\n      <td>111.0</td>\n      <td>29.0</td>\n      <td>0.730</td>\n      <td>0.70</td>\n      <td>us</td>\n      <td>...</td>\n      <td>Elbistan earthquake, Kahramanmaras earthquake ...</td>\n      <td>earthquake</td>\n      <td>5.09</td>\n      <td>3.709</td>\n      <td>0.041</td>\n      <td>58.0</td>\n      <td>reviewed</td>\n      <td>us</td>\n      <td>us</td>\n      <td>Kahramanmaras earthquake sequence</td>\n    </tr>\n    <tr>\n      <th>2023-02-06 02:03:37.341000+00:00</th>\n      <td>37.7712</td>\n      <td>37.9141</td>\n      <td>16.929</td>\n      <td>5.3</td>\n      <td>mb</td>\n      <td>154.0</td>\n      <td>35.0</td>\n      <td>0.792</td>\n      <td>0.61</td>\n      <td>us</td>\n      <td>...</td>\n      <td>Central Turkey</td>\n      <td>earthquake</td>\n      <td>4.28</td>\n      <td>3.347</td>\n      <td>0.052</td>\n      <td>122.0</td>\n      <td>reviewed</td>\n      <td>us</td>\n      <td>us</td>\n      <td>Central Turkey</td>\n    </tr>\n    <tr>\n      <th>2023-02-06 01:36:27.357000+00:00</th>\n      <td>36.9921</td>\n      <td>36.6832</td>\n      <td>10.000</td>\n      <td>5.6</td>\n      <td>mb</td>\n      <td>167.0</td>\n      <td>47.0</td>\n      <td>0.458</td>\n      <td>0.59</td>\n      <td>us</td>\n      <td>...</td>\n      <td>Turkey-Syria border region</td>\n      <td>earthquake</td>\n      <td>6.20</td>\n      <td>1.760</td>\n      <td>0.052</td>\n      <td>128.0</td>\n      <td>reviewed</td>\n      <td>us</td>\n      <td>us</td>\n      <td>Turkey-Syria border region</td>\n    </tr>\n    <tr>\n      <th>2023-02-06 01:28:15.784000+00:00</th>\n      <td>37.1893</td>\n      <td>36.8929</td>\n      <td>9.797</td>\n      <td>6.7</td>\n      <td>mww</td>\n      <td>194.0</td>\n      <td>19.0</td>\n      <td>0.254</td>\n      <td>0.68</td>\n      <td>us</td>\n      <td>...</td>\n      <td>14 km E of Nurda??, Turkey</td>\n      <td>earthquake</td>\n      <td>7.68</td>\n      <td>3.333</td>\n      <td>0.098</td>\n      <td>10.0</td>\n      <td>reviewed</td>\n      <td>us</td>\n      <td>us</td>\n      <td>Turkey</td>\n    </tr>\n    <tr>\n      <th>2023-02-06 01:26:50.869000+00:00</th>\n      <td>37.2252</td>\n      <td>37.0001</td>\n      <td>10.000</td>\n      <td>5.7</td>\n      <td>mb</td>\n      <td>94.0</td>\n      <td>75.0</td>\n      <td>0.175</td>\n      <td>1.32</td>\n      <td>us</td>\n      <td>...</td>\n      <td>24 km ENE of Nurda??, Turkey</td>\n      <td>earthquake</td>\n      <td>2.35</td>\n      <td>1.789</td>\n      <td>0.072</td>\n      <td>69.0</td>\n      <td>reviewed</td>\n      <td>us</td>\n      <td>us</td>\n      <td>Turkey</td>\n    </tr>\n    <tr>\n      <th>2023-02-06 01:17:34.342000+00:00</th>\n      <td>37.2256</td>\n      <td>37.0143</td>\n      <td>10.000</td>\n      <td>7.8</td>\n      <td>mww</td>\n      <td>266.0</td>\n      <td>17.0</td>\n      <td>0.165</td>\n      <td>0.66</td>\n      <td>us</td>\n      <td>...</td>\n      <td>Pazarcik earthquake, Kahramanmaras earthquake ...</td>\n      <td>earthquake</td>\n      <td>5.23</td>\n      <td>1.784</td>\n      <td>0.050</td>\n      <td>38.0</td>\n      <td>reviewed</td>\n      <td>us</td>\n      <td>us</td>\n      <td>Kahramanmaras earthquake sequence</td>\n    </tr>\n  </tbody>\n</table>\n<p>12 rows × 22 columns</p>\n</div>"
     },
     "execution_count": 28,
     "metadata": {},
     "output_type": "execute_result"
    }
   ],
   "source": [
    "df.set_index('time').loc['2023-02-06']"
   ],
   "metadata": {
    "collapsed": false
   }
  },
  {
   "cell_type": "code",
   "execution_count": 24,
   "outputs": [
    {
     "data": {
      "text/plain": "count    10.000000\nmean      5.710000\nstd       0.481779\nmin       4.900000\n25%       5.450000\n50%       5.700000\n75%       5.950000\nmax       6.700000\nName: mag, dtype: float64"
     },
     "execution_count": 24,
     "metadata": {},
     "output_type": "execute_result"
    }
   ],
   "source": [
    "df = df.dropna(subset='place')\n",
    "df.loc[df['place'].str.contains(\"Turkey\")].set_index('time').loc['2023-02-06', 'mag'].describe()"
   ],
   "metadata": {
    "collapsed": false
   }
  },
  {
   "cell_type": "code",
   "execution_count": 25,
   "outputs": [
    {
     "name": "stdout",
     "output_type": "stream",
     "text": [
      "place_extracted\n",
      "Alaska                              913\n",
      "Indonesia                           521\n",
      "CA                                  397\n",
      "Papua New Guinea                    367\n",
      "Chile                               273\n",
      "Japan                               270\n",
      "Tonga                               222\n",
      "South Sandwich Islands region       202\n",
      "Philippines                         197\n",
      "New Zealand                         183\n",
      "Solomon Islands                     183\n",
      "Vanuatu                             183\n",
      "Oklahoma                            175\n",
      "Hawaii                              170\n",
      "Kermadec Islands region             147\n",
      "Russia                              137\n",
      "Mexico                              135\n",
      "California                          130\n",
      "Puerto Rico                         129\n",
      "MX                                  106\n",
      "Nevada                              102\n",
      "Peru                                 90\n",
      "Pacific-Antarctic Ridge              81\n",
      "Fiji                                 78\n",
      "Idaho                                74\n",
      "southeast of the Loyalty Islands     74\n",
      "south of the Fiji Islands            73\n",
      "Iran                                 72\n",
      "Japan region                         72\n",
      "China                                66\n",
      "Name: count, dtype: int64\n"
     ]
    }
   ],
   "source": [
    "df['place_extracted'] = df['place'].str.split(',').str[-1].str.strip()\n",
    "# Alternative method  df['place'].str.split(',').str.get(-1).str.strip()\n",
    "\n",
    "top_places = df['place_extracted'].value_counts().head(30)\n",
    "\n",
    "# Display the result\n",
    "print(top_places)"
   ],
   "metadata": {
    "collapsed": false
   }
  },
  {
   "cell_type": "code",
   "execution_count": 26,
   "outputs": [
    {
     "data": {
      "text/plain": "place\nIndonesia                           516\nPapua New Guinea                    366\nChile                               270\nJapan                               267\nAlaska                              265\nTonga                               221\nSouth Sandwich Islands region       202\nPhilippines                         197\nSolomon Islands                     183\nVanuatu                             182\nNew Zealand                         169\nKermadec Islands region             146\nRussia                              134\nMexico                              132\nPeru                                 89\nPacific-Antarctic Ridge              81\nFiji                                 76\nsoutheast of the Loyalty Islands     74\nsouth of the Fiji Islands            73\nJapan region                         72\nIran                                 71\nChina                                66\nNew Caledonia                        60\nsouthern East Pacific Rise           60\nGreece                               56\nTaiwan                               55\nArgentina                            52\nFiji region                          50\nsouth of the Kermadec Islands        48\ncentral Mid-Atlantic Ridge           43\nName: count, dtype: int64"
     },
     "execution_count": 26,
     "metadata": {},
     "output_type": "execute_result"
    }
   ],
   "source": [
    "df.loc[df['mag'] >= 5, 'place'].str.split(',').str.get(-1).str.strip().value_counts().head(30)"
   ],
   "metadata": {
    "collapsed": false
   }
  },
  {
   "cell_type": "code",
   "execution_count": null,
   "outputs": [],
   "source": [],
   "metadata": {
    "collapsed": false
   }
  }
 ],
 "metadata": {
  "kernelspec": {
   "display_name": "Python 3",
   "language": "python",
   "name": "python3"
  },
  "language_info": {
   "codemirror_mode": {
    "name": "ipython",
    "version": 2
   },
   "file_extension": ".py",
   "mimetype": "text/x-python",
   "name": "python",
   "nbconvert_exporter": "python",
   "pygments_lexer": "ipython2",
   "version": "2.7.6"
  }
 },
 "nbformat": 4,
 "nbformat_minor": 0
}
